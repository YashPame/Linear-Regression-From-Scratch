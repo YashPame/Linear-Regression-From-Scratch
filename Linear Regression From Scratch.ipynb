{
 "cells": [
  {
   "cell_type": "code",
   "execution_count": 1,
   "outputs": [],
   "source": [
    "import numpy as np\n",
    "import pandas as pd"
   ],
   "metadata": {
    "collapsed": false,
    "pycharm": {
     "name": "#%%\n"
    }
   }
  },
  {
   "cell_type": "code",
   "execution_count": 9,
   "outputs": [],
   "source": [
    "class LinearRegression:\n",
    "    def __init__(self,GradientDescent=False,iterations=10000,learningRate=0.0001,stopThreshold=0.000001):\n",
    "        self.GradientDescent=GradientDescent\n",
    "        self.iterations=iterations\n",
    "        self.learningRate=learningRate\n",
    "        self.stopThreshold=stopThreshold\n",
    "\n",
    "        self.ModelTrained=False\n",
    "\n",
    "        self.m=[]\n",
    "        self.c=0\n",
    "        self.previousCost=None\n",
    "\n",
    "        self.countVerify=0\n",
    "    def fit(self, X, Y):\n",
    "        self.m=[0 for i in range(X.shape[1])]\n",
    "        self.c=0\n",
    "        if self.GradientDescent:\n",
    "            self.countVerify=0\n",
    "            try:\n",
    "                self.ModelTrained=True\n",
    "                def MeanSquaredError(Y,yPred):\n",
    "                    return (np.sum((Y-yPred)**2)/(2*len(Y)))\n",
    "\n",
    "                for j in range(self.iterations):\n",
    "                    yPred = self.predict(X)\n",
    "                    currentCost=MeanSquaredError(Y,yPred)\n",
    "\n",
    "                    if self.previousCost and abs(self.previousCost-currentCost)<=self.stopThreshold:\n",
    "                        break\n",
    "                    if self.previousCost!=None:\n",
    "                        if self.previousCost<currentCost:\n",
    "                            self.countVerify+=1\n",
    "                    if self.countVerify==2:\n",
    "                        print(\"Try Training Model Using Different Learning Rate\")\n",
    "                        self.ModelTrained=False\n",
    "                        break\n",
    "\n",
    "                    self.previousCost=currentCost\n",
    "\n",
    "                    for i in range(X.shape[1]):\n",
    "                        SlopeDerivative = -(2/len(X))*sum(X[:,i]*(Y-yPred))\n",
    "                        self.m[i]=self.m[i]-(self.learningRate*SlopeDerivative)\n",
    "\n",
    "                    InterceptDerivative = -(2/len(X))*sum(Y-yPred)\n",
    "                    self.c=self.c-(self.learningRate*InterceptDerivative)\n",
    "\n",
    "                    # print(f\"Iteration {j + 1}: Cost {currentCost}, Slope {self.m}, Intercept {self.c}\")\n",
    "            except Exception as e:\n",
    "                print(e)\n",
    "                self.m=[]\n",
    "                self.c=0\n",
    "                self.ModelTrained=False\n",
    "\n",
    "        else:\n",
    "            try:\n",
    "                self.ModelTrained=True\n",
    "                X=np.array(X)\n",
    "                Y=np.array(Y)\n",
    "                ones=np.array([1 for i in range(len(Y))]).reshape(len(Y),1)\n",
    "\n",
    "                X=np.concatenate((ones,X),axis=1)\n",
    "\n",
    "                X_Transpose=np.transpose(X)\n",
    "\n",
    "                self.Values=np.dot(np.dot(np.linalg.inv((np.dot(X_Transpose,X))),X_Transpose),Y)\n",
    "\n",
    "                # print(self.Values)\n",
    "                self.c=self.Values[0]\n",
    "                self.m = np.delete(self.Values,0)\n",
    "\n",
    "                self.ModelTrained=True\n",
    "            except Exception as e:\n",
    "                print(e)\n",
    "                self.m=[]\n",
    "                self.c=0\n",
    "                self.ModelTrained=False\n",
    "\n",
    "    def intercept(self):\n",
    "        if self.ModelTrained:\n",
    "            return self.c\n",
    "        else:\n",
    "            return \"Model Not Trained Yet!!\"\n",
    "\n",
    "    def slopes(self):\n",
    "        if self.ModelTrained:\n",
    "            return self.m\n",
    "        else:\n",
    "            return \"Model Not Trained Yet!!\"\n",
    "\n",
    "    def predict(self,X):\n",
    "        if self.ModelTrained:\n",
    "            yPred=[]\n",
    "            for i in range(X.shape[1]):\n",
    "                yPred.append(self.m[i]*X[:,i])\n",
    "            c=[self.c for i in range(X.shape[0])]\n",
    "            yPred.append(c)\n",
    "            yPred=np.array(yPred)\n",
    "            return yPred.sum(axis=0)\n",
    "        else:\n",
    "            return \"Before Predicting Model Needs to be Trained!!\""
   ],
   "metadata": {
    "collapsed": false,
    "pycharm": {
     "name": "#%%\n"
    }
   }
  },
  {
   "cell_type": "code",
   "execution_count": 10,
   "outputs": [],
   "source": [
    "data=pd.read_csv('headbrain.csv')\n",
    "\n",
    "data.drop(['Age Range'],axis=1,inplace=True)\n",
    "X=np.array(data.drop(columns=['Brain Weight(grams)'],axis=1))\n",
    "Y=np.array(data['Brain Weight(grams)'])\n",
    "\n",
    "from sklearn.model_selection import train_test_split\n",
    "xTrain,xTest,yTrain,yTest=train_test_split(X,Y,test_size=0.2,random_state=5)"
   ],
   "metadata": {
    "collapsed": false,
    "pycharm": {
     "name": "#%%\n"
    }
   }
  },
  {
   "cell_type": "code",
   "execution_count": 11,
   "outputs": [
    {
     "name": "stdout",
     "output_type": "stream",
     "text": [
      "Using Gradient Descent\n",
      "0.7360584201041506\n",
      "Using Normal Equation\n",
      "0.764596330482386\n"
     ]
    }
   ],
   "source": [
    "print(\"Using Gradient Descent\")\n",
    "model=LinearRegression(GradientDescent=True,learningRate=0.00000001)\n",
    "model.fit(xTrain,yTrain)\n",
    "ypred=model.predict(xTest)\n",
    "from sklearn.metrics import r2_score\n",
    "print(r2_score(yTest,ypred))\n",
    "\n",
    "print(\"Using Normal Equation\")\n",
    "model=LinearRegression(GradientDescent=False)\n",
    "model.fit(xTrain,yTrain)\n",
    "ypred=model.predict(xTest)\n",
    "from sklearn.metrics import r2_score\n",
    "print(r2_score(yTest,ypred))"
   ],
   "metadata": {
    "collapsed": false,
    "pycharm": {
     "name": "#%%\n"
    }
   }
  },
  {
   "cell_type": "code",
   "execution_count": 12,
   "outputs": [
    {
     "name": "stdout",
     "output_type": "stream",
     "text": [
      "0.7645963304823744\n"
     ]
    }
   ],
   "source": [
    "from sklearn.linear_model import LinearRegression\n",
    "model=LinearRegression()\n",
    "model.fit(xTrain,yTrain)\n",
    "ypred=model.predict(xTest)\n",
    "from sklearn.metrics import r2_score\n",
    "print(r2_score(yTest,ypred))"
   ],
   "metadata": {
    "collapsed": false,
    "pycharm": {
     "name": "#%%\n"
    }
   }
  },
  {
   "cell_type": "code",
   "execution_count": null,
   "outputs": [],
   "source": [],
   "metadata": {
    "collapsed": false,
    "pycharm": {
     "name": "#%%\n"
    }
   }
  }
 ],
 "metadata": {
  "kernelspec": {
   "display_name": "Python 3",
   "language": "python",
   "name": "python3"
  },
  "language_info": {
   "codemirror_mode": {
    "name": "ipython",
    "version": 2
   },
   "file_extension": ".py",
   "mimetype": "text/x-python",
   "name": "python",
   "nbconvert_exporter": "python",
   "pygments_lexer": "ipython2",
   "version": "2.7.6"
  }
 },
 "nbformat": 4,
 "nbformat_minor": 0
}